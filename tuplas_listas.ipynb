{
 "cells": [
  {
   "cell_type": "code",
   "id": "initial_id",
   "metadata": {
    "collapsed": true,
    "ExecuteTime": {
     "end_time": "2025-08-31T19:29:03.822242Z",
     "start_time": "2025-08-31T19:29:03.814808Z"
    }
   },
   "source": "tupla1 = (1,3,5,7)",
   "outputs": [],
   "execution_count": 1
  },
  {
   "metadata": {
    "ExecuteTime": {
     "end_time": "2025-08-31T19:29:57.436542Z",
     "start_time": "2025-08-31T19:29:57.432548Z"
    }
   },
   "cell_type": "code",
   "source": [
    "print('Acceso a la tupla con iterator')\n",
    "for i in tupla1:\n",
    "    print(i)\n",
    "\n",
    "print('Acceso a la tupla con indices')\n",
    "for i in range(len(tupla1)):\n",
    "    print(i,tupla1[i])"
   ],
   "id": "9589aa64a53053ba",
   "outputs": [
    {
     "name": "stdout",
     "output_type": "stream",
     "text": [
      "Acceso a la tupla con iterator\n",
      "1\n",
      "3\n",
      "5\n",
      "7\n",
      "Acceso a la tupla con indices\n",
      "0 1\n",
      "1 3\n",
      "2 5\n",
      "3 7\n"
     ]
    }
   ],
   "execution_count": 2
  },
  {
   "metadata": {
    "ExecuteTime": {
     "end_time": "2025-08-31T19:31:00.713088Z",
     "start_time": "2025-08-31T19:31:00.709726Z"
    }
   },
   "cell_type": "code",
   "source": [
    "lista1=[1,2,3]\n",
    "tupla2=tuple(lista1)\n",
    "print(tupla2)"
   ],
   "id": "ca14960d68df8fdf",
   "outputs": [
    {
     "name": "stdout",
     "output_type": "stream",
     "text": [
      "(1, 2, 3)\n"
     ]
    }
   ],
   "execution_count": 3
  },
  {
   "metadata": {
    "ExecuteTime": {
     "end_time": "2025-08-31T19:31:57.965635Z",
     "start_time": "2025-08-31T19:31:57.962636Z"
    }
   },
   "cell_type": "code",
   "source": [
    "lista1[0]=5\n",
    "print(lista1)"
   ],
   "id": "fa99a85731d8cb2e",
   "outputs": [
    {
     "name": "stdout",
     "output_type": "stream",
     "text": [
      "[5, 2, 3]\n"
     ]
    }
   ],
   "execution_count": 4
  },
  {
   "metadata": {
    "ExecuteTime": {
     "end_time": "2025-08-31T19:32:28.314462Z",
     "start_time": "2025-08-31T19:32:28.311585Z"
    }
   },
   "cell_type": "code",
   "source": [
    "try:\n",
    "    tupla2[0]=5\n",
    "    print(tupla2)\n",
    "except:\n",
    "    print(\"El problema encontrado\")"
   ],
   "id": "f5f4ccc4ac4e139b",
   "outputs": [
    {
     "name": "stdout",
     "output_type": "stream",
     "text": [
      "El problema encontrado\n"
     ]
    }
   ],
   "execution_count": 5
  },
  {
   "metadata": {
    "ExecuteTime": {
     "end_time": "2025-08-31T19:34:15.767153Z",
     "start_time": "2025-08-31T19:34:15.763159Z"
    }
   },
   "cell_type": "code",
   "source": [
    "print('tupla1:\\t', tupla1)\n",
    "print('tupla1[:3]:\\t', tupla1[:3])\n",
    "print('tupla1[1:]:\\t', tupla1[1:])\n",
    "print('tupla1[0:1]:\\t', tupla1[0:1])\n",
    "print('tupla1[1:-1]:\\t', tupla1[1:-1])\n",
    "print('tupla1[:-1]:\\t', tupla1[:-1])\n",
    "print('tupla1[:]:\\t', tupla1[:])\n",
    "print('tupla1[::2]:\\t', tupla1[::2])"
   ],
   "id": "c0066bdb3c048ade",
   "outputs": [
    {
     "name": "stdout",
     "output_type": "stream",
     "text": [
      "tupla1:\t (1, 3, 5, 7)\n",
      "tupla1[:3]:\t (1, 3, 5)\n",
      "tupla1[1:]:\t (3, 5, 7)\n",
      "tupla1[0:1]:\t (1,)\n",
      "tupla1[1:-1]:\t (3, 5)\n",
      "tupla1[:-1]:\t (1, 3, 5)\n",
      "tupla1[:]:\t (1, 3, 5, 7)\n",
      "tupla1[::2]:\t (1, 5)\n"
     ]
    }
   ],
   "execution_count": 7
  },
  {
   "metadata": {
    "ExecuteTime": {
     "end_time": "2025-09-01T01:12:56.796288Z",
     "start_time": "2025-09-01T01:12:56.790780Z"
    }
   },
   "cell_type": "code",
   "source": [
    "tupla1 = (1, 3, 5, 7)\n",
    "tup2 = (1, \"John\", tupla1, True, -23.1)\n",
    "\n",
    "for i in tup2:\n",
    "    print(i)"
   ],
   "id": "7d0ccf5456df9018",
   "outputs": [
    {
     "name": "stdout",
     "output_type": "stream",
     "text": [
      "1\n",
      "John\n",
      "(1, 3, 5, 7)\n",
      "True\n",
      "-23.1\n"
     ]
    }
   ],
   "execution_count": 8
  },
  {
   "metadata": {
    "ExecuteTime": {
     "end_time": "2025-09-01T01:13:04.495067Z",
     "start_time": "2025-09-01T01:13:04.489857Z"
    }
   },
   "cell_type": "code",
   "source": [
    "tupla1 = (1, 3, 5, 7)\n",
    "tup2 = (1, \"John\", tupla1, True, -23.1)\n",
    "\n",
    "N = len(tup2)\n",
    "for i in range(N):\n",
    "    print(tup2[i])"
   ],
   "id": "678d0ee0287ffa52",
   "outputs": [
    {
     "name": "stdout",
     "output_type": "stream",
     "text": [
      "1\n",
      "John\n",
      "(1, 3, 5, 7)\n",
      "True\n",
      "-23.1\n"
     ]
    }
   ],
   "execution_count": 9
  },
  {
   "metadata": {},
   "cell_type": "markdown",
   "source": "Ejercicio 1",
   "id": "775bdcab5dd71e53"
  },
  {
   "metadata": {
    "ExecuteTime": {
     "end_time": "2025-09-01T01:14:28.851338Z",
     "start_time": "2025-09-01T01:14:28.847340Z"
    }
   },
   "cell_type": "code",
   "source": [
    "tupla1 = (1, 3, 5, 7)\n",
    "tup2 = (1, \"John\", tupla1, True, -23.1)\n",
    "\n",
    "for i in tup2:\n",
    "    print(i, \"->\", type(i))"
   ],
   "id": "a4af99577fa96ca1",
   "outputs": [
    {
     "name": "stdout",
     "output_type": "stream",
     "text": [
      "1 -> <class 'int'>\n",
      "John -> <class 'str'>\n",
      "(1, 3, 5, 7) -> <class 'tuple'>\n",
      "True -> <class 'bool'>\n",
      "-23.1 -> <class 'float'>\n"
     ]
    }
   ],
   "execution_count": 10
  },
  {
   "metadata": {
    "ExecuteTime": {
     "end_time": "2025-09-01T01:14:54.037466Z",
     "start_time": "2025-09-01T01:14:54.032882Z"
    }
   },
   "cell_type": "code",
   "source": [
    "tupla1 = (1, 3, 5, 7)\n",
    "tup2 = (1, \"John\", tupla1, True, -23.1)\n",
    "\n",
    "N = len(tup2)\n",
    "for i in range(N):\n",
    "    print(tup2[i], \"->\", type(tup2[i]))"
   ],
   "id": "adca6eefafffc298",
   "outputs": [
    {
     "name": "stdout",
     "output_type": "stream",
     "text": [
      "1 -> <class 'int'>\n",
      "John -> <class 'str'>\n",
      "(1, 3, 5, 7) -> <class 'tuple'>\n",
      "True -> <class 'bool'>\n",
      "-23.1 -> <class 'float'>\n"
     ]
    }
   ],
   "execution_count": 11
  },
  {
   "metadata": {
    "ExecuteTime": {
     "end_time": "2025-09-01T01:21:57.144564Z",
     "start_time": "2025-09-01T01:21:57.131553Z"
    }
   },
   "cell_type": "code",
   "source": [
    "lista1=['Alvaro','Daniel','Pilar','Beatriz']\n",
    "for i in lista1:\n",
    "    print(i,end=' ')\n",
    "print('')"
   ],
   "id": "b0677247383247f3",
   "outputs": [
    {
     "name": "stdout",
     "output_type": "stream",
     "text": [
      "Alvaro Daniel Pilar Beatriz \n"
     ]
    }
   ],
   "execution_count": 1
  },
  {
   "metadata": {
    "ExecuteTime": {
     "end_time": "2025-09-01T01:25:29.864088Z",
     "start_time": "2025-09-01T01:25:29.858856Z"
    }
   },
   "cell_type": "code",
   "source": [
    "t1=(1,'Oleg',24.5)\n",
    "l1=['Maria','Bonita']\n",
    "l2=[t1,l1]\n",
    "t2=(l2,'manzana')\n",
    "\n",
    "print('t1=',t1)\n",
    "print('l1=',l1)\n",
    "print('l2=',l2)\n",
    "print('t2=',t2)"
   ],
   "id": "8f132f4c434855d6",
   "outputs": [
    {
     "name": "stdout",
     "output_type": "stream",
     "text": [
      "t1= (1, 'Oleg', 24.5)\n",
      "l1= ['Maria', 'Bonita']\n",
      "l2= [(1, 'Oleg', 24.5), ['Maria', 'Bonita']]\n",
      "t2= ([(1, 'Oleg', 24.5), ['Maria', 'Bonita']], 'manzana')\n"
     ]
    }
   ],
   "execution_count": 2
  },
  {
   "metadata": {
    "ExecuteTime": {
     "end_time": "2025-09-01T01:29:19.916177Z",
     "start_time": "2025-09-01T01:29:19.912174Z"
    }
   },
   "cell_type": "code",
   "source": [
    "for i in t1:\n",
    "    print(i)\n",
    "print('\\n')\n",
    "\n",
    "for i in l1:\n",
    "    print(i)\n",
    "print('\\n')\n",
    "\n",
    "for i in l2:\n",
    "    print(i)\n",
    "print('\\n')\n",
    "\n",
    "for i in t2:\n",
    "    print(i)\n"
   ],
   "id": "36f01aacea62795a",
   "outputs": [
    {
     "name": "stdout",
     "output_type": "stream",
     "text": [
      "1\n",
      "Oleg\n",
      "24.5\n",
      "\n",
      "\n",
      "Maria\n",
      "Bonita\n",
      "\n",
      "\n",
      "(1, 'Oleg', 24.5)\n",
      "['Maria', 'Bonita']\n",
      "\n",
      "\n",
      "[(1, 'Oleg', 24.5), ['Maria', 'Bonita']]\n",
      "manzana\n"
     ]
    }
   ],
   "execution_count": 5
  },
  {
   "metadata": {
    "ExecuteTime": {
     "end_time": "2025-09-01T01:32:25.959840Z",
     "start_time": "2025-09-01T01:32:25.954051Z"
    }
   },
   "cell_type": "code",
   "source": [
    "print(t2[0])\n",
    "print(t2[1])\n",
    "print('\\n')\n",
    "\n",
    "print(t2[0][0])\n",
    "print(t2[0][1])\n",
    "print('\\n')\n",
    "\n",
    "print(t2[0][0][0])\n",
    "print(t2[0][0][1])\n",
    "print(t2[0][0][2])\n",
    "print('\\n')\n",
    "\n",
    "print(t2[0][1][0])\n",
    "print(t2[0][1][1])\n",
    "print(t2[0][0][2])\n",
    "print('\\n')"
   ],
   "id": "f85afcb2be7e6eda",
   "outputs": [
    {
     "name": "stdout",
     "output_type": "stream",
     "text": [
      "[(1, 'Oleg', 24.5), ['Maria', 'Bonita']]\n",
      "manzana\n",
      "\n",
      "\n",
      "(1, 'Oleg', 24.5)\n",
      "['Maria', 'Bonita']\n",
      "\n",
      "\n",
      "1\n",
      "Oleg\n",
      "24.5\n",
      "\n",
      "\n",
      "Maria\n",
      "Bonita\n",
      "24.5\n",
      "\n",
      "\n"
     ]
    }
   ],
   "execution_count": 7
  },
  {
   "metadata": {
    "ExecuteTime": {
     "end_time": "2025-09-01T01:33:51.208184Z",
     "start_time": "2025-09-01T01:33:51.203679Z"
    }
   },
   "cell_type": "code",
   "source": [
    "vocalTupla=('a','e','i','o','u')\n",
    "vocalLista=list(vocalTupla)\n",
    "\n",
    "print(vocalTupla)\n",
    "print(vocalLista)"
   ],
   "id": "79d81b2f08d59e73",
   "outputs": [
    {
     "name": "stdout",
     "output_type": "stream",
     "text": [
      "('a', 'e', 'i', 'o', 'u')\n",
      "['a', 'e', 'i', 'o', 'u']\n"
     ]
    }
   ],
   "execution_count": 8
  },
  {
   "metadata": {
    "ExecuteTime": {
     "end_time": "2025-09-01T01:36:01.561663Z",
     "start_time": "2025-09-01T01:36:01.558380Z"
    }
   },
   "cell_type": "code",
   "source": [
    "alfabeto='abcdefghijklmnopqrtsuvwxyz'\n",
    "print('alfabeto es un objeto string: ', type(alfabeto))"
   ],
   "id": "2c4f44942aaaba7e",
   "outputs": [
    {
     "name": "stdout",
     "output_type": "stream",
     "text": [
      "alfabeto es un objeto string:  <class 'str'>\n"
     ]
    }
   ],
   "execution_count": 9
  },
  {
   "metadata": {
    "ExecuteTime": {
     "end_time": "2025-09-01T01:36:25.190636Z",
     "start_time": "2025-09-01T01:36:25.186927Z"
    }
   },
   "cell_type": "code",
   "source": [
    "alfaL=[]\n",
    "\n",
    "for i in alfabeto:\n",
    "    alfaL.append(i)\n",
    "\n",
    "print(alfaL)"
   ],
   "id": "964ea833b748aebb",
   "outputs": [
    {
     "name": "stdout",
     "output_type": "stream",
     "text": [
      "['a', 'b', 'c', 'd', 'e', 'f', 'g', 'h', 'i', 'j', 'k', 'l', 'm', 'n', 'o', 'p', 'q', 'r', 't', 's', 'u', 'v', 'w', 'x', 'y', 'z']\n"
     ]
    }
   ],
   "execution_count": 10
  },
  {
   "metadata": {
    "ExecuteTime": {
     "end_time": "2025-09-01T01:38:11.218789Z",
     "start_time": "2025-09-01T01:38:11.214682Z"
    }
   },
   "cell_type": "code",
   "source": [
    "N=len(alfaL)\n",
    "numL=[]\n",
    "for i in range(N):\n",
    "    numL.append(i)\n",
    "\n",
    "print('alfaL= ',alfaL)\n",
    "print('\\n')\n",
    "print('numL= ',numL)\n",
    "print('\\n')\n",
    "\n",
    "alfanumL=alfaL+numL\n",
    "alfanumLL=[alfaL,numL]\n",
    "\n",
    "print('alfanumL= ',alfanumL)\n",
    "print('\\n')\n",
    "print('alfanumLL= ',alfanumLL)"
   ],
   "id": "9219cce850d9ba57",
   "outputs": [
    {
     "name": "stdout",
     "output_type": "stream",
     "text": [
      "alfaL=  ['a', 'b', 'c', 'd', 'e', 'f', 'g', 'h', 'i', 'j', 'k', 'l', 'm', 'n', 'o', 'p', 'q', 'r', 't', 's', 'u', 'v', 'w', 'x', 'y', 'z']\n",
      "\n",
      "\n",
      "numL=  [0, 1, 2, 3, 4, 5, 6, 7, 8, 9, 10, 11, 12, 13, 14, 15, 16, 17, 18, 19, 20, 21, 22, 23, 24, 25]\n",
      "\n",
      "\n",
      "alfanumL=  ['a', 'b', 'c', 'd', 'e', 'f', 'g', 'h', 'i', 'j', 'k', 'l', 'm', 'n', 'o', 'p', 'q', 'r', 't', 's', 'u', 'v', 'w', 'x', 'y', 'z', 0, 1, 2, 3, 4, 5, 6, 7, 8, 9, 10, 11, 12, 13, 14, 15, 16, 17, 18, 19, 20, 21, 22, 23, 24, 25]\n",
      "\n",
      "\n",
      "alfanumLL=  [['a', 'b', 'c', 'd', 'e', 'f', 'g', 'h', 'i', 'j', 'k', 'l', 'm', 'n', 'o', 'p', 'q', 'r', 't', 's', 'u', 'v', 'w', 'x', 'y', 'z'], [0, 1, 2, 3, 4, 5, 6, 7, 8, 9, 10, 11, 12, 13, 14, 15, 16, 17, 18, 19, 20, 21, 22, 23, 24, 25]]\n"
     ]
    }
   ],
   "execution_count": 12
  },
  {
   "metadata": {
    "ExecuteTime": {
     "end_time": "2025-09-01T01:39:47.848655Z",
     "start_time": "2025-09-01T01:39:47.844966Z"
    }
   },
   "cell_type": "code",
   "source": [
    "for i in range(N):\n",
    "    print(alfanumLL[0][i],alfanumLL[1][i])"
   ],
   "id": "5aa3b1ac7509cc30",
   "outputs": [
    {
     "name": "stdout",
     "output_type": "stream",
     "text": [
      "a 0\n",
      "b 1\n",
      "c 2\n",
      "d 3\n",
      "e 4\n",
      "f 5\n",
      "g 6\n",
      "h 7\n",
      "i 8\n",
      "j 9\n",
      "k 10\n",
      "l 11\n",
      "m 12\n",
      "n 13\n",
      "o 14\n",
      "p 15\n",
      "q 16\n",
      "r 17\n",
      "t 18\n",
      "s 19\n",
      "u 20\n",
      "v 21\n",
      "w 22\n",
      "x 23\n",
      "y 24\n",
      "z 25\n"
     ]
    }
   ],
   "execution_count": 13
  },
  {
   "metadata": {
    "ExecuteTime": {
     "end_time": "2025-09-01T01:40:54.902576Z",
     "start_time": "2025-09-01T01:40:54.899117Z"
    }
   },
   "cell_type": "code",
   "source": [
    "alfaL.remove('c')\n",
    "print(alfaL)"
   ],
   "id": "295b115d63c5cb4a",
   "outputs": [
    {
     "name": "stdout",
     "output_type": "stream",
     "text": [
      "['a', 'b', 'd', 'e', 'f', 'g', 'h', 'i', 'j', 'k', 'l', 'm', 'n', 'o', 'p', 'q', 'r', 't', 's', 'u', 'v', 'w', 'x', 'y', 'z']\n"
     ]
    }
   ],
   "execution_count": 14
  },
  {
   "metadata": {},
   "cell_type": "markdown",
   "source": [
    "## Métodos de Listas en Python\n",
    "\n",
    "| Método | Descripción |\n",
    "|:-------|:------------|\n",
    "| `append()` | Agrega un elemento al final de la lista |\n",
    "| `clear()` | Remueve todo los elementos de la lista |\n",
    "| `copy()` | Regresa una copia de la lista |\n",
    "| `count()` | Regresa el número de elementos con el valor especificado |\n",
    "| `extend()` | Agrega elementos de una lista (o cualquier iterable) al final de esta lista |\n",
    "| `index()` | Regresa el índice del primer elemento con el valor especificado |\n",
    "| `insert()` | Adiciona un elemento en la posición especificada |\n",
    "| `pop()` | Remueve un elemento en la posición especificada y puede retornarlo si se hace una asignación |\n",
    "| `remove()` | Remueve el ítem con este valor específico |\n",
    "| `reverse()` | Invierte el orden de la lista |\n",
    "| `sort()` | Ordena la lista |"
   ],
   "id": "8242e7ffd2de5eeb"
  },
  {
   "metadata": {
    "ExecuteTime": {
     "end_time": "2025-09-01T02:17:39.920177Z",
     "start_time": "2025-09-01T02:17:39.916348Z"
    }
   },
   "cell_type": "code",
   "source": [
    "mi_lista = [1, 2, 3, 4, 5]\n",
    "print(\"Lista inicial:\", mi_lista)"
   ],
   "id": "fea30932f8637c4f",
   "outputs": [
    {
     "name": "stdout",
     "output_type": "stream",
     "text": [
      "Lista inicial: [1, 2, 3, 4, 5]\n"
     ]
    }
   ],
   "execution_count": 63
  },
  {
   "metadata": {
    "ExecuteTime": {
     "end_time": "2025-09-01T02:17:35.738820Z",
     "start_time": "2025-09-01T02:17:35.734455Z"
    }
   },
   "cell_type": "code",
   "source": [
    "mi_lista.append(6)\n",
    "print(\"Después de append(6):\", mi_lista)"
   ],
   "id": "e005047c00a7c9b4",
   "outputs": [
    {
     "name": "stdout",
     "output_type": "stream",
     "text": [
      "Después de append(6): [1, 2, 3, 3, 5, 6, 7, 8, 9, 6]\n"
     ]
    }
   ],
   "execution_count": 62
  },
  {
   "metadata": {
    "ExecuteTime": {
     "end_time": "2025-09-01T02:17:29.845849Z",
     "start_time": "2025-09-01T02:17:29.841906Z"
    }
   },
   "cell_type": "code",
   "source": [
    "copia_lista = mi_lista.copy()\n",
    "copia_lista.clear()\n",
    "print(\"Después de clear():\", copia_lista)"
   ],
   "id": "5b3e1d238d3edbed",
   "outputs": [
    {
     "name": "stdout",
     "output_type": "stream",
     "text": [
      "Después de clear(): []\n"
     ]
    }
   ],
   "execution_count": 61
  },
  {
   "metadata": {
    "ExecuteTime": {
     "end_time": "2025-09-01T01:46:26.717444Z",
     "start_time": "2025-09-01T01:46:26.713586Z"
    }
   },
   "cell_type": "code",
   "source": [
    "lista_copiada = mi_lista.copy()\n",
    "print(\"Copia de la lista:\", lista_copiada)"
   ],
   "id": "fd5cc4abade07050",
   "outputs": [
    {
     "name": "stdout",
     "output_type": "stream",
     "text": [
      "Copia de la lista: [1, 2, 3, 4, 5, 6]\n"
     ]
    }
   ],
   "execution_count": 19
  },
  {
   "metadata": {
    "ExecuteTime": {
     "end_time": "2025-09-01T01:46:33.578055Z",
     "start_time": "2025-09-01T01:46:33.574048Z"
    }
   },
   "cell_type": "code",
   "source": [
    "mi_lista.append(3)\n",
    "conteo = mi_lista.count(3)\n",
    "print(\"Número de veces que aparece el 3:\", conteo)"
   ],
   "id": "371789030de1bd5e",
   "outputs": [
    {
     "name": "stdout",
     "output_type": "stream",
     "text": [
      "Número de veces que aparece el 3: 2\n"
     ]
    }
   ],
   "execution_count": 20
  },
  {
   "metadata": {
    "ExecuteTime": {
     "end_time": "2025-09-01T01:46:40.054299Z",
     "start_time": "2025-09-01T01:46:40.051429Z"
    }
   },
   "cell_type": "code",
   "source": [
    "lista_extra = [7, 8, 9]\n",
    "mi_lista.extend(lista_extra)\n",
    "print(\"Después de extend([7, 8, 9]):\", mi_lista)"
   ],
   "id": "26ebeb8659062276",
   "outputs": [
    {
     "name": "stdout",
     "output_type": "stream",
     "text": [
      "Después de extend([7, 8, 9]): [1, 2, 3, 4, 5, 6, 3, 7, 8, 9]\n"
     ]
    }
   ],
   "execution_count": 21
  },
  {
   "metadata": {
    "ExecuteTime": {
     "end_time": "2025-09-01T01:46:44.730540Z",
     "start_time": "2025-09-01T01:46:44.726560Z"
    }
   },
   "cell_type": "code",
   "source": [
    "indice = mi_lista.index(3)\n",
    "print(\"Índice del primer elemento con valor 3:\", indice)"
   ],
   "id": "96557f834c888a90",
   "outputs": [
    {
     "name": "stdout",
     "output_type": "stream",
     "text": [
      "Índice del primer elemento con valor 3: 2\n"
     ]
    }
   ],
   "execution_count": 22
  },
  {
   "metadata": {
    "ExecuteTime": {
     "end_time": "2025-09-01T01:46:49.220957Z",
     "start_time": "2025-09-01T01:46:49.216430Z"
    }
   },
   "cell_type": "code",
   "source": [
    "mi_lista.insert(2, 99)\n",
    "print(\"Después de insert(2, 99):\", mi_lista)"
   ],
   "id": "39ce04c2ec5a1014",
   "outputs": [
    {
     "name": "stdout",
     "output_type": "stream",
     "text": [
      "Después de insert(2, 99): [1, 2, 99, 3, 4, 5, 6, 3, 7, 8, 9]\n"
     ]
    }
   ],
   "execution_count": 23
  },
  {
   "metadata": {
    "ExecuteTime": {
     "end_time": "2025-09-01T01:46:53.838963Z",
     "start_time": "2025-09-01T01:46:53.835515Z"
    }
   },
   "cell_type": "code",
   "source": [
    "elemento_eliminado = mi_lista.pop(4)\n",
    "print(\"Elemento eliminado con pop(4):\", elemento_eliminado)\n",
    "print(\"Lista después de pop(4):\", mi_lista)"
   ],
   "id": "fb08584c35790dc7",
   "outputs": [
    {
     "name": "stdout",
     "output_type": "stream",
     "text": [
      "Elemento eliminado con pop(4): 4\n",
      "Lista después de pop(4): [1, 2, 99, 3, 5, 6, 3, 7, 8, 9]\n"
     ]
    }
   ],
   "execution_count": 24
  },
  {
   "metadata": {
    "ExecuteTime": {
     "end_time": "2025-09-01T01:46:58.657248Z",
     "start_time": "2025-09-01T01:46:58.653744Z"
    }
   },
   "cell_type": "code",
   "source": [
    "mi_lista.remove(99)  # Elimina el primer elemento con valor 99\n",
    "print(\"Después de remove(99):\", mi_lista)"
   ],
   "id": "dd3f6ff96d9242fc",
   "outputs": [
    {
     "name": "stdout",
     "output_type": "stream",
     "text": [
      "Después de remove(99): [1, 2, 3, 5, 6, 3, 7, 8, 9]\n"
     ]
    }
   ],
   "execution_count": 25
  },
  {
   "metadata": {
    "ExecuteTime": {
     "end_time": "2025-09-01T01:47:03.232724Z",
     "start_time": "2025-09-01T01:47:03.228718Z"
    }
   },
   "cell_type": "code",
   "source": [
    "mi_lista.reverse()\n",
    "print(\"Lista después de reverse():\", mi_lista)"
   ],
   "id": "d31ee925ed71b9a7",
   "outputs": [
    {
     "name": "stdout",
     "output_type": "stream",
     "text": [
      "Lista después de reverse(): [9, 8, 7, 3, 6, 5, 3, 2, 1]\n"
     ]
    }
   ],
   "execution_count": 26
  },
  {
   "metadata": {
    "ExecuteTime": {
     "end_time": "2025-09-01T01:47:10.917307Z",
     "start_time": "2025-09-01T01:47:10.914227Z"
    }
   },
   "cell_type": "code",
   "source": [
    "mi_lista.sort()\n",
    "print(\"Lista después de sort():\", mi_lista)"
   ],
   "id": "60681040b620d8d3",
   "outputs": [
    {
     "name": "stdout",
     "output_type": "stream",
     "text": [
      "Lista después de sort(): [1, 2, 3, 3, 5, 6, 7, 8, 9]\n"
     ]
    }
   ],
   "execution_count": 27
  },
  {
   "metadata": {
    "ExecuteTime": {
     "end_time": "2025-09-01T01:47:15.387389Z",
     "start_time": "2025-09-01T01:47:15.384177Z"
    }
   },
   "cell_type": "code",
   "source": [
    "print(\"\\nResultado final de la lista después de todas las operaciones:\")\n",
    "print(mi_lista)"
   ],
   "id": "f2c6445a1eb5ae97",
   "outputs": [
    {
     "name": "stdout",
     "output_type": "stream",
     "text": [
      "\n",
      "Resultado final de la lista después de todas las operaciones:\n",
      "[1, 2, 3, 3, 5, 6, 7, 8, 9]\n"
     ]
    }
   ],
   "execution_count": 28
  },
  {
   "metadata": {},
   "cell_type": "markdown",
   "source": "## EJERCICIO",
   "id": "bb5527915f5f0a0b"
  },
  {
   "metadata": {
    "ExecuteTime": {
     "end_time": "2025-09-01T02:01:56.178362Z",
     "start_time": "2025-09-01T02:01:56.175356Z"
    }
   },
   "cell_type": "code",
   "source": "listaVacia=[]",
   "id": "4ab460f81e28a918",
   "outputs": [],
   "execution_count": 36
  },
  {
   "metadata": {
    "ExecuteTime": {
     "end_time": "2025-09-01T02:06:07.005121Z",
     "start_time": "2025-09-01T02:06:07.001632Z"
    }
   },
   "cell_type": "code",
   "source": [
    "for i in range(len(alfanumLL[0])):\n",
    "    listaVacia.append((alfanumLL[0][i], alfanumLL[1][i]))\n",
    "print(listaVacia)"
   ],
   "id": "a5edfd430bf9811",
   "outputs": [
    {
     "name": "stdout",
     "output_type": "stream",
     "text": [
      "[('a', 0), ('b', 1), ('d', 2), ('e', 3), ('f', 4), ('g', 5), ('h', 6), ('i', 7), ('j', 8), ('k', 9), ('l', 10), ('m', 11), ('n', 12), ('o', 13), ('p', 14), ('q', 15), ('r', 16), ('t', 17), ('s', 18), ('u', 19), ('v', 20), ('w', 21), ('x', 22), ('y', 23), ('z', 24), ('a', 0), ('b', 1), ('d', 2), ('e', 3), ('f', 4), ('g', 5), ('h', 6), ('i', 7), ('j', 8), ('k', 9), ('l', 10), ('m', 11), ('n', 12), ('o', 13), ('p', 14), ('q', 15), ('r', 16), ('t', 17), ('s', 18), ('u', 19), ('v', 20), ('w', 21), ('x', 22), ('y', 23), ('z', 24), ('a', 0), ('b', 1), ('d', 2), ('e', 3), ('f', 4), ('g', 5), ('h', 6), ('i', 7), ('j', 8), ('k', 9), ('l', 10), ('m', 11), ('n', 12), ('o', 13), ('p', 14), ('q', 15), ('r', 16), ('t', 17), ('s', 18), ('u', 19), ('v', 20), ('w', 21), ('x', 22), ('y', 23), ('z', 24), ('a', 0), ('b', 1), ('d', 2), ('e', 3), ('f', 4), ('g', 5), ('h', 6), ('i', 7), ('j', 8), ('k', 9), ('l', 10), ('m', 11), ('n', 12), ('o', 13), ('p', 14), ('q', 15), ('r', 16), ('t', 17), ('s', 18), ('u', 19), ('v', 20), ('w', 21), ('x', 22), ('y', 23), ('z', 24), ('a', 0), ('b', 1), ('d', 2), ('e', 3), ('f', 4), ('g', 5), ('h', 6), ('i', 7), ('j', 8), ('k', 9), ('l', 10), ('m', 11), ('n', 12), ('o', 13), ('p', 14), ('q', 15), ('r', 16), ('t', 17), ('s', 18), ('u', 19), ('v', 20), ('w', 21), ('x', 22), ('y', 23), ('z', 24)]\n"
     ]
    }
   ],
   "execution_count": 49
  },
  {
   "metadata": {},
   "cell_type": "markdown",
   "source": " ## COMPRENSION DE LISTAS",
   "id": "54230701fe2736cb"
  },
  {
   "metadata": {
    "ExecuteTime": {
     "end_time": "2025-09-01T02:09:16.063572Z",
     "start_time": "2025-09-01T02:09:16.060115Z"
    }
   },
   "cell_type": "code",
   "source": [
    "frutas=['manzana','kiwi','guanabana','limon','nispero','Pomelo','Mango']\n",
    "lista2=[]\n",
    "for x in frutas:\n",
    "    if \"a\" in x:\n",
    "        lista2.append(x)\n",
    "print(lista2)"
   ],
   "id": "e5a0cc56d07b96ae",
   "outputs": [
    {
     "name": "stdout",
     "output_type": "stream",
     "text": [
      "['manzana', 'guanabana', 'Mango']\n"
     ]
    }
   ],
   "execution_count": 50
  },
  {
   "metadata": {
    "ExecuteTime": {
     "end_time": "2025-09-01T02:11:21.935746Z",
     "start_time": "2025-09-01T02:11:21.932290Z"
    }
   },
   "cell_type": "code",
   "source": [
    "lisat2=[x for x in frutas if \"a\" in x]\n",
    "print(lisat2)"
   ],
   "id": "2bbb20822f42e5fc",
   "outputs": [
    {
     "name": "stdout",
     "output_type": "stream",
     "text": [
      "['manzana', 'guanabana', 'Mango']\n"
     ]
    }
   ],
   "execution_count": 51
  },
  {
   "metadata": {
    "ExecuteTime": {
     "end_time": "2025-09-01T02:11:56.383897Z",
     "start_time": "2025-09-01T02:11:56.380896Z"
    }
   },
   "cell_type": "code",
   "source": [
    "lista2=[x for x in frutas if \"a\" not in x]\n",
    "print(lista2)"
   ],
   "id": "6b86a083499ca619",
   "outputs": [
    {
     "name": "stdout",
     "output_type": "stream",
     "text": [
      "['kiwi', 'limon', 'nispero', 'Pomelo']\n"
     ]
    }
   ],
   "execution_count": 52
  },
  {
   "metadata": {
    "ExecuteTime": {
     "end_time": "2025-09-01T02:12:17.413604Z",
     "start_time": "2025-09-01T02:12:17.409604Z"
    }
   },
   "cell_type": "code",
   "source": [
    "lista2=[x for x in frutas if len(x)<6]\n",
    "print(lista2)"
   ],
   "id": "6ab81c9e23e5be3a",
   "outputs": [
    {
     "name": "stdout",
     "output_type": "stream",
     "text": [
      "['kiwi', 'limon', 'Mango']\n"
     ]
    }
   ],
   "execution_count": 55
  },
  {
   "metadata": {
    "ExecuteTime": {
     "end_time": "2025-09-01T02:13:33.243512Z",
     "start_time": "2025-09-01T02:13:33.239641Z"
    }
   },
   "cell_type": "code",
   "source": [
    "lista2=[x for x in range(10) if x%2==0]\n",
    "print(lista2)"
   ],
   "id": "9824f7e7ea9c4feb",
   "outputs": [
    {
     "name": "stdout",
     "output_type": "stream",
     "text": [
      "[0, 2, 4, 6, 8]\n"
     ]
    }
   ],
   "execution_count": 56
  },
  {
   "metadata": {
    "ExecuteTime": {
     "end_time": "2025-09-01T02:14:50.976033Z",
     "start_time": "2025-09-01T02:14:50.972529Z"
    }
   },
   "cell_type": "code",
   "source": [
    "lista2=[x for x in t1 if type(x)==int or type(x)==float]\n",
    "print(lista2)"
   ],
   "id": "9839f48f39d413c9",
   "outputs": [
    {
     "name": "stdout",
     "output_type": "stream",
     "text": [
      "[1, 24.5]\n"
     ]
    }
   ],
   "execution_count": 59
  },
  {
   "metadata": {},
   "cell_type": "markdown",
   "source": "## EJERCICIO",
   "id": "668f817cd0f9524f"
  },
  {
   "metadata": {
    "ExecuteTime": {
     "end_time": "2025-09-01T02:15:29.749500Z",
     "start_time": "2025-09-01T02:15:29.745195Z"
    }
   },
   "cell_type": "code",
   "source": [
    "lista2=[x for x in frutas if len(x)>5]\n",
    "print(lista2)"
   ],
   "id": "61fc104a303e2986",
   "outputs": [
    {
     "name": "stdout",
     "output_type": "stream",
     "text": [
      "['manzana', 'guanabana', 'nispero', 'Pomelo']\n"
     ]
    }
   ],
   "execution_count": 60
  }
 ],
 "metadata": {
  "kernelspec": {
   "display_name": "Python 3",
   "language": "python",
   "name": "python3"
  },
  "language_info": {
   "codemirror_mode": {
    "name": "ipython",
    "version": 2
   },
   "file_extension": ".py",
   "mimetype": "text/x-python",
   "name": "python",
   "nbconvert_exporter": "python",
   "pygments_lexer": "ipython2",
   "version": "2.7.6"
  }
 },
 "nbformat": 4,
 "nbformat_minor": 5
}
