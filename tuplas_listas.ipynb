{
 "cells": [
  {
   "metadata": {},
   "cell_type": "markdown",
   "source": [
    "# Actividad 1: Listas y tuplas en Python\n",
    "\n",
    "---\n",
    "\n",
    "## Información del Equipo\n",
    "\n",
    "**Integrantes:**\n",
    "* González Pérez Monserrat\n",
    "* Escamilla Lazcano Saúl\n",
    "* Pérez Méndez Nancy Esmeralda\n",
    "* Valencia Hernandez Kevin Guadalupe\n",
    "* Zamudio López Leonardo\n",
    "\n",
    "---\n",
    "\n",
    "**Asignatura:** Aprendizaje de máquina\n",
    "**Grupo:** 5BV1\n",
    "**Profesora:** Dra. Camacho Vázquez Vanessa Alejandra\n",
    "**Fecha:** 03/09/25\n",
    "\n",
    "---\n",
    "\n",
    "## Objetivos\n",
    "\n",
    "- Comprender el concepto de tuplas y listas en Python\n",
    "- Aprender a manipular estos tipos de datos\n",
    "- Implementar métodos para trabajar con estructuras de datos\n",
    "- Aplicar comprensión de listas\n",
    "- Desarrollar habilidades de programación en equipo\n",
    "\n",
    "---\n",
    "\n",
    "## Contenido\n",
    "\n",
    "1. **Creación y manipulación de tuplas**\n",
    "2. **Operaciones con listas**\n",
    "3. **Métodos de listas**\n",
    "4. **Estructuras de datos complejas**\n",
    "5. **Comprensión de listas**\n",
    "6. **Ejercicios prácticos**\n",
    "\n",
    "---"
   ],
   "id": "e47d6c9d441662b"
  },
  {
   "metadata": {},
   "cell_type": "markdown",
   "source": [
    "## 1. Creación de Tuplas\n",
    "\n",
    "Las tuplas son estructuras de datos **inmutables** y **ordenadas** que se crean usando paréntesis `()`. Son útiles cuando necesitamos almacenar datos que no deben cambiar.\n",
    "\n",
    "### Código:"
   ],
   "id": "b1a9f22554bfd559"
  },
  {
   "metadata": {
    "collapsed": true,
    "ExecuteTime": {
     "end_time": "2025-08-31T19:29:03.822242Z",
     "start_time": "2025-08-31T19:29:03.814808Z"
    }
   },
   "cell_type": "code",
   "outputs": [],
   "execution_count": 1,
   "source": "tupla1 = (1,3,5,7)",
   "id": "initial_id"
  },
  {
   "metadata": {},
   "cell_type": "markdown",
   "source": [
    "**Resultado:** Se crea una tupla con los elementos (1, 3, 5, 7). Las tuplas se reconocen por estar entre paréntesis y ser inmutables.\n",
    "\n",
    "---"
   ],
   "id": "1c993a192ad8a9"
  },
  {
   "metadata": {},
   "cell_type": "markdown",
   "source": [
    "## 2. Iteración sobre Tuplas\n",
    "\n",
    "Existen dos formas principales de recorrer los elementos de una tupla:\n",
    "- **Iteración directa**: Accede a cada elemento sin necesidad de índices\n",
    "- **Iteración con índices**: Permite acceder tanto al índice como al valor\n",
    "\n",
    "### Código:"
   ],
   "id": "82e71aaa64d99e37"
  },
  {
   "metadata": {
    "ExecuteTime": {
     "end_time": "2025-08-31T19:29:57.436542Z",
     "start_time": "2025-08-31T19:29:57.432548Z"
    }
   },
   "cell_type": "code",
   "source": [
    "print('Acceso a la tupla con iterator')\n",
    "for i in tupla1:\n",
    "    print(i)\n",
    "\n",
    "print('Acceso a la tupla con indices')\n",
    "for i in range(len(tupla1)):\n",
    "    print(i,tupla1[i])"
   ],
   "id": "9589aa64a53053ba",
   "outputs": [
    {
     "name": "stdout",
     "output_type": "stream",
     "text": [
      "Acceso a la tupla con iterator\n",
      "1\n",
      "3\n",
      "5\n",
      "7\n",
      "Acceso a la tupla con indices\n",
      "0 1\n",
      "1 3\n",
      "2 5\n",
      "3 7\n"
     ]
    }
   ],
   "execution_count": 2
  },
  {
   "metadata": {},
   "cell_type": "markdown",
   "source": [
    "**Resultado:**\n",
    "- La primera parte muestra solo los valores de la tupla\n",
    "- La segunda parte muestra el índice y el valor correspondiente\n",
    "- Esto demuestra que las tuplas mantienen un orden específico\n",
    "\n",
    "---"
   ],
   "id": "37b036162922a523"
  },
  {
   "metadata": {},
   "cell_type": "markdown",
   "source": [
    "## 3. Conversión de Lista a Tupla\n",
    "\n",
    "El constructor `tuple()` permite convertir cualquier objeto iterable (como listas) en tuplas.\n",
    "\n",
    "### Código:"
   ],
   "id": "de24b60f93d52c14"
  },
  {
   "metadata": {
    "ExecuteTime": {
     "end_time": "2025-08-31T19:31:00.713088Z",
     "start_time": "2025-08-31T19:31:00.709726Z"
    }
   },
   "cell_type": "code",
   "source": [
    "lista1=[1,2,3]\n",
    "tupla2=tuple(lista1)\n",
    "print(tupla2)"
   ],
   "id": "ca14960d68df8fdf",
   "outputs": [
    {
     "name": "stdout",
     "output_type": "stream",
     "text": [
      "(1, 2, 3)\n"
     ]
    }
   ],
   "execution_count": 3
  },
  {
   "metadata": {},
   "cell_type": "markdown",
   "source": [
    "**Resultado:** Se convierte la lista [1, 2, 3] en la tupla (1, 2, 3). Nota cómo cambian los símbolos de corchetes [] a paréntesis ().\n",
    "\n",
    "---"
   ],
   "id": "d0a71f581d426fc8"
  },
  {
   "metadata": {},
   "cell_type": "markdown",
   "source": [
    "## 4. Mutabilidad de las Listas\n",
    "\n",
    "A diferencia de las tuplas, las **listas son mutables**, lo que significa que podemos modificar sus elementos después de crearlas.\n",
    "\n",
    "### Código:"
   ],
   "id": "a69f536851c62705"
  },
  {
   "metadata": {
    "ExecuteTime": {
     "end_time": "2025-08-31T19:31:57.965635Z",
     "start_time": "2025-08-31T19:31:57.962636Z"
    }
   },
   "cell_type": "code",
   "source": [
    "lista1[0]=5\n",
    "print(lista1)"
   ],
   "id": "fa99a85731d8cb2e",
   "outputs": [
    {
     "name": "stdout",
     "output_type": "stream",
     "text": [
      "[5, 2, 3]\n"
     ]
    }
   ],
   "execution_count": 4
  },
  {
   "metadata": {},
   "cell_type": "markdown",
   "source": [
    "**Resultado:** La lista original [1, 2, 3] se modifica a [5, 2, 3] al cambiar el primer elemento. Esto demuestra la mutabilidad de las listas.\n",
    "\n",
    "---"
   ],
   "id": "8d32758975eff9b1"
  },
  {
   "metadata": {},
   "cell_type": "markdown",
   "source": [
    "## 5. Inmutabilidad de las Tuplas\n",
    "\n",
    "Las tuplas **NO** se pueden modificar una vez creadas. Intentar cambiar un elemento genera un error.\n",
    "\n",
    "### Código:"
   ],
   "id": "7f694edc7f4678b"
  },
  {
   "metadata": {
    "ExecuteTime": {
     "end_time": "2025-08-31T19:32:28.314462Z",
     "start_time": "2025-08-31T19:32:28.311585Z"
    }
   },
   "cell_type": "code",
   "source": [
    "try:\n",
    "    tupla2[0]=5\n",
    "    print(tupla2)\n",
    "except:\n",
    "    print(\"El problema encontrado\")"
   ],
   "id": "f5f4ccc4ac4e139b",
   "outputs": [
    {
     "name": "stdout",
     "output_type": "stream",
     "text": [
      "El problema encontrado\n"
     ]
    }
   ],
   "execution_count": 5
  },
  {
   "metadata": {},
   "cell_type": "markdown",
   "source": [
    "**Resultado:** El mensaje \"El problema encontrado\" se imprime porque Python genera un error al intentar modificar una tupla. Esto confirma que las tuplas son inmutables.\n",
    "\n",
    "---"
   ],
   "id": "ff0b37f736388e1d"
  },
  {
   "metadata": {},
   "cell_type": "markdown",
   "source": [
    "## 6. Slicing en Tuplas\n",
    "\n",
    "El slicing permite extraer porciones de una tupla usando la notación `[inicio:fin:paso]`.\n",
    "\n",
    "### Código:"
   ],
   "id": "77157cd8c9b90ae1"
  },
  {
   "metadata": {},
   "cell_type": "code",
   "outputs": [],
   "execution_count": null,
   "source": [
    "print('tupla1:\\t', tupla1)\n",
    "print('tupla1[:3]:\\t', tupla1[:3])\n",
    "print('tupla1[1:]:\\t', tupla1[1:])\n",
    "print('tupla1[0:1]:\\t', tupla1[0:1])\n",
    "print('tupla1[1:-1]:\\t', tupla1[1:-1])\n",
    "print('tupla1[:-1]:\\t', tupla1[:-1])\n",
    "print('tupla1[:]:\\t', tupla1[:])\n",
    "print('tupla1[::2]:\\t', tupla1[::2])"
   ],
   "id": "225bfa21d1fe7d8"
  },
  {
   "metadata": {},
   "cell_type": "markdown",
   "source": [
    "**Resultados explicados:**\n",
    "- `tupla1[:3]`: Primeros 3 elementos\n",
    "- `tupla1[1:]`: Desde el índice 1 hasta el final\n",
    "- `tupla1[0:1]`: Solo el elemento en índice 0\n",
    "- `tupla1[1:-1]`: Desde índice 1 hasta penúltimo\n",
    "- `tupla1[:-1]`: Todos excepto el último\n",
    "- `tupla1[:]`: Copia completa\n",
    "- `tupla1[::2]`: Cada 2 elementos (salto de 2)\n",
    "\n",
    "---"
   ],
   "id": "5b0f667e7dce01c4"
  },
  {
   "metadata": {},
   "cell_type": "markdown",
   "source": [
    "## 7. Tuplas con Diferentes Tipos de Datos\n",
    "\n",
    "Las tuplas pueden contener elementos de **diferentes tipos de datos**: enteros, strings, otras tuplas, booleanos, flotantes, etc.\n",
    "\n",
    "### Código:"
   ],
   "id": "f90e039978eda17b"
  },
  {
   "metadata": {},
   "cell_type": "code",
   "outputs": [],
   "execution_count": null,
   "source": [
    "tupla1 = (1, 3, 5, 7)\n",
    "tup2 = (1, \"John\", tupla1, True, -23.1)\n",
    "\n",
    "for i in tup2:\n",
    "    print(i)"
   ],
   "id": "8a26ec0430ffcf36"
  },
  {
   "metadata": {},
   "cell_type": "markdown",
   "source": [
    "**Resultado:** La tupla `tup2` contiene:\n",
    "- Un entero (1)\n",
    "- Un string (\"John\")\n",
    "- Otra tupla ((1, 3, 5, 7))\n",
    "- Un booleano (True)\n",
    "- Un float (-23.1)\n",
    "\n",
    "---"
   ],
   "id": "251e5eae811a29ad"
  },
  {
   "metadata": {
    "ExecuteTime": {
     "end_time": "2025-09-01T01:13:04.495067Z",
     "start_time": "2025-09-01T01:13:04.489857Z"
    }
   },
   "cell_type": "code",
   "source": [
    "tupla1 = (1, 3, 5, 7)\n",
    "tup2 = (1, \"John\", tupla1, True, -23.1)\n",
    "\n",
    "N = len(tup2)\n",
    "for i in range(N):\n",
    "    print(tup2[i])"
   ],
   "id": "678d0ee0287ffa52",
   "outputs": [
    {
     "name": "stdout",
     "output_type": "stream",
     "text": [
      "1\n",
      "John\n",
      "(1, 3, 5, 7)\n",
      "True\n",
      "-23.1\n"
     ]
    }
   ],
   "execution_count": 9
  },
  {
   "metadata": {},
   "cell_type": "markdown",
   "source": [
    "**Resultado:** Se muestran todos los elementos de la tupla mixta accediendo por índices. Cada tipo de dato se imprime correctamente.\n",
    "\n",
    "---"
   ],
   "id": "da33a9a3fcfef9de"
  },
  {
   "metadata": {},
   "cell_type": "markdown",
   "source": [
    "## Ejercicio 1: Identificación de Tipos\n",
    "\n",
    "**Objetivo:** Modificar el bucle para mostrar el tipo de cada elemento en la tupla mixta.\n",
    "\n",
    "### Código:"
   ],
   "id": "7535b19ebd85673b"
  },
  {
   "metadata": {
    "ExecuteTime": {
     "end_time": "2025-09-01T01:14:28.851338Z",
     "start_time": "2025-09-01T01:14:28.847340Z"
    }
   },
   "cell_type": "code",
   "source": [
    "tupla1 = (1, 3, 5, 7)\n",
    "tup2 = (1, \"John\", tupla1, True, -23.1)\n",
    "\n",
    "for i in tup2:\n",
    "    print(i, \"->\", type(i))"
   ],
   "id": "a4af99577fa96ca1",
   "outputs": [
    {
     "name": "stdout",
     "output_type": "stream",
     "text": [
      "1 -> <class 'int'>\n",
      "John -> <class 'str'>\n",
      "(1, 3, 5, 7) -> <class 'tuple'>\n",
      "True -> <class 'bool'>\n",
      "-23.1 -> <class 'float'>\n"
     ]
    }
   ],
   "execution_count": 10
  },
  {
   "metadata": {
    "ExecuteTime": {
     "end_time": "2025-09-01T01:14:54.037466Z",
     "start_time": "2025-09-01T01:14:54.032882Z"
    }
   },
   "cell_type": "code",
   "source": [
    "tupla1 = (1, 3, 5, 7)\n",
    "tup2 = (1, \"John\", tupla1, True, -23.1)\n",
    "\n",
    "N = len(tup2)\n",
    "for i in range(N):\n",
    "    print(tup2[i], \"->\", type(tup2[i]))"
   ],
   "id": "adca6eefafffc298",
   "outputs": [
    {
     "name": "stdout",
     "output_type": "stream",
     "text": [
      "1 -> <class 'int'>\n",
      "John -> <class 'str'>\n",
      "(1, 3, 5, 7) -> <class 'tuple'>\n",
      "True -> <class 'bool'>\n",
      "-23.1 -> <class 'float'>\n"
     ]
    }
   ],
   "execution_count": 11
  },
  {
   "metadata": {},
   "cell_type": "markdown",
   "source": [
    "**Resultado:** Ambas versiones muestran cada elemento junto con su tipo de dato:\n",
    "- `<class 'int'>` para enteros\n",
    "- `<class 'str'>` para strings\n",
    "- `<class 'tuple'>` para tuplas\n",
    "- `<class 'bool'>` para booleanos\n",
    "- `<class 'float'>` para números decimales\n",
    "\n",
    "---"
   ],
   "id": "596ea386afdfe31d"
  },
  {
   "metadata": {},
   "cell_type": "markdown",
   "source": [
    "## 9. Introducción a las Listas\n",
    "\n",
    "Las **listas** son estructuras de datos **mutables** y **ordenadas** que se crean usando corchetes `[]`. Son más flexibles que las tuplas.\n",
    "\n",
    "### Código:"
   ],
   "id": "ef6a40f8f25cedfe"
  },
  {
   "metadata": {
    "ExecuteTime": {
     "end_time": "2025-09-01T01:21:57.144564Z",
     "start_time": "2025-09-01T01:21:57.131553Z"
    }
   },
   "cell_type": "code",
   "source": [
    "lista1=['Alvaro','Daniel','Pilar','Beatriz']\n",
    "for i in lista1:\n",
    "    print(i,end=' ')\n",
    "print('')"
   ],
   "id": "b0677247383247f3",
   "outputs": [
    {
     "name": "stdout",
     "output_type": "stream",
     "text": [
      "Alvaro Daniel Pilar Beatriz \n"
     ]
    }
   ],
   "execution_count": 1
  },
  {
   "metadata": {},
   "cell_type": "markdown",
   "source": [
    "**Resultado:** Se crea una lista con nombres y se imprimen en una sola línea separados por espacios usando `end=' '`.\n",
    "\n",
    "---"
   ],
   "id": "bcf03680e247cdae"
  },
  {
   "metadata": {},
   "cell_type": "markdown",
   "source": [
    "## 10. Estructuras de Datos Complejas\n",
    "\n",
    "Podemos crear estructuras anidadas combinando tuplas y listas, creando organizaciones de datos más complejas.\n",
    "\n",
    "### Código:"
   ],
   "id": "cd43e48e498e5d20"
  },
  {
   "metadata": {
    "ExecuteTime": {
     "end_time": "2025-09-01T01:25:29.864088Z",
     "start_time": "2025-09-01T01:25:29.858856Z"
    }
   },
   "cell_type": "code",
   "source": [
    "t1=(1,'Oleg',24.5)\n",
    "l1=['Maria','Bonita']\n",
    "l2=[t1,l1]\n",
    "t2=(l2,'manzana')\n",
    "\n",
    "print('t1=',t1)\n",
    "print('l1=',l1)\n",
    "print('l2=',l2)\n",
    "print('t2=',t2)"
   ],
   "id": "8f132f4c434855d6",
   "outputs": [
    {
     "name": "stdout",
     "output_type": "stream",
     "text": [
      "t1= (1, 'Oleg', 24.5)\n",
      "l1= ['Maria', 'Bonita']\n",
      "l2= [(1, 'Oleg', 24.5), ['Maria', 'Bonita']]\n",
      "t2= ([(1, 'Oleg', 24.5), ['Maria', 'Bonita']], 'manzana')\n"
     ]
    }
   ],
   "execution_count": 2
  },
  {
   "metadata": {},
   "cell_type": "markdown",
   "source": [
    "**Resultado:** Se crean estructuras anidadas:\n",
    "- `t1`: tupla con diferentes tipos\n",
    "- `l1`: lista simple\n",
    "- `l2`: lista que contiene una tupla y otra lista\n",
    "- `t2`: tupla que contiene una lista y un string\n",
    "\n",
    "---"
   ],
   "id": "5c73fc70592698c8"
  },
  {
   "metadata": {},
   "cell_type": "markdown",
   "source": [
    "## 11. Iteración sobre Estructuras Complejas\n",
    "\n",
    "Podemos iterar sobre cada estructura para ver su contenido en diferentes niveles de anidación.\n",
    "\n",
    "### Código:"
   ],
   "id": "ae882e2fc6a49b4b"
  },
  {
   "metadata": {
    "ExecuteTime": {
     "end_time": "2025-09-01T01:29:19.916177Z",
     "start_time": "2025-09-01T01:29:19.912174Z"
    }
   },
   "cell_type": "code",
   "source": [
    "for i in t1:\n",
    "    print(i)\n",
    "print('\\n')\n",
    "\n",
    "for i in l1:\n",
    "    print(i)\n",
    "print('\\n')\n",
    "\n",
    "for i in l2:\n",
    "    print(i)\n",
    "print('\\n')\n",
    "\n",
    "for i in t2:\n",
    "    print(i)\n"
   ],
   "id": "36f01aacea62795a",
   "outputs": [
    {
     "name": "stdout",
     "output_type": "stream",
     "text": [
      "1\n",
      "Oleg\n",
      "24.5\n",
      "\n",
      "\n",
      "Maria\n",
      "Bonita\n",
      "\n",
      "\n",
      "(1, 'Oleg', 24.5)\n",
      "['Maria', 'Bonita']\n",
      "\n",
      "\n",
      "[(1, 'Oleg', 24.5), ['Maria', 'Bonita']]\n",
      "manzana\n"
     ]
    }
   ],
   "execution_count": 5
  },
  {
   "metadata": {},
   "cell_type": "markdown",
   "source": [
    "**Resultado:** Se muestran los contenidos de cada estructura:\n",
    "- Las estructuras simples muestran sus elementos individuales\n",
    "- Las estructuras complejas muestran sus elementos que pueden ser otras estructuras\n",
    "\n",
    "---"
   ],
   "id": "cf766cfb1f5730bb"
  },
  {
   "metadata": {},
   "cell_type": "markdown",
   "source": [
    "## 12. Acceso a Elementos Anidados\n",
    "\n",
    "Podemos acceder a elementos específicos en estructuras anidadas usando múltiples índices `[i][j][k]`.\n",
    "\n",
    "### Código:"
   ],
   "id": "74f4a7c4cc4545c2"
  },
  {
   "metadata": {
    "ExecuteTime": {
     "end_time": "2025-09-01T01:32:25.959840Z",
     "start_time": "2025-09-01T01:32:25.954051Z"
    }
   },
   "cell_type": "code",
   "source": [
    "print(t2[0])\n",
    "print(t2[1])\n",
    "print('\\n')\n",
    "\n",
    "print(t2[0][0])\n",
    "print(t2[0][1])\n",
    "print('\\n')\n",
    "\n",
    "print(t2[0][0][0])\n",
    "print(t2[0][0][1])\n",
    "print(t2[0][0][2])\n",
    "print('\\n')\n",
    "\n",
    "print(t2[0][1][0])\n",
    "print(t2[0][1][1])\n",
    "print(t2[0][0][2])\n",
    "print('\\n')"
   ],
   "id": "f85afcb2be7e6eda",
   "outputs": [
    {
     "name": "stdout",
     "output_type": "stream",
     "text": [
      "[(1, 'Oleg', 24.5), ['Maria', 'Bonita']]\n",
      "manzana\n",
      "\n",
      "\n",
      "(1, 'Oleg', 24.5)\n",
      "['Maria', 'Bonita']\n",
      "\n",
      "\n",
      "1\n",
      "Oleg\n",
      "24.5\n",
      "\n",
      "\n",
      "Maria\n",
      "Bonita\n",
      "24.5\n",
      "\n",
      "\n"
     ]
    }
   ],
   "execution_count": 7
  },
  {
   "metadata": {},
   "cell_type": "markdown",
   "source": [
    "**Resultado:** Se demuestra cómo acceder a elementos específicos en estructuras anidadas:\n",
    "- `t2[0]`: Primer elemento de t2 (la lista l2)\n",
    "- `t2[0][0]`: Primer elemento de l2 (la tupla t1)\n",
    "- `t2[0][0][1]`: Segundo elemento de t1 (\"Oleg\")\n",
    "\n",
    "---"
   ],
   "id": "f85a2a92d1a24563"
  },
  {
   "metadata": {},
   "cell_type": "markdown",
   "source": [
    "## 13. Conversión de Tupla a Lista\n",
    "\n",
    "El constructor `list()` permite convertir tuplas en listas, habilitando la mutabilidad.\n",
    "\n",
    "### Código:"
   ],
   "id": "1d7b20ac5a7a38d8"
  },
  {
   "metadata": {
    "ExecuteTime": {
     "end_time": "2025-09-01T01:33:51.208184Z",
     "start_time": "2025-09-01T01:33:51.203679Z"
    }
   },
   "cell_type": "code",
   "source": [
    "vocalTupla=('a','e','i','o','u')\n",
    "vocalLista=list(vocalTupla)\n",
    "\n",
    "print(vocalTupla)\n",
    "print(vocalLista)"
   ],
   "id": "79d81b2f08d59e73",
   "outputs": [
    {
     "name": "stdout",
     "output_type": "stream",
     "text": [
      "('a', 'e', 'i', 'o', 'u')\n",
      "['a', 'e', 'i', 'o', 'u']\n"
     ]
    }
   ],
   "execution_count": 8
  },
  {
   "metadata": {},
   "cell_type": "markdown",
   "source": [
    "**Resultado:** La tupla de vocales se convierte en una lista, cambiando de paréntesis () a corchetes [].\n",
    "\n",
    "---"
   ],
   "id": "6e7a1b993c966316"
  },
  {
   "metadata": {},
   "cell_type": "markdown",
   "source": [
    "## 14. Conversión de String a Lista\n",
    "\n",
    "Los strings también son iterables y pueden convertirse en listas, donde cada carácter se vuelve un elemento.\n",
    "\n",
    "### Código:"
   ],
   "id": "b6e1c1bde86fe774"
  },
  {
   "metadata": {
    "ExecuteTime": {
     "end_time": "2025-09-01T01:36:01.561663Z",
     "start_time": "2025-09-01T01:36:01.558380Z"
    }
   },
   "cell_type": "code",
   "source": [
    "alfabeto='abcdefghijklmnopqrtsuvwxyz'\n",
    "print('alfabeto es un objeto string: ', type(alfabeto))"
   ],
   "id": "2c4f44942aaaba7e",
   "outputs": [
    {
     "name": "stdout",
     "output_type": "stream",
     "text": [
      "alfabeto es un objeto string:  <class 'str'>\n"
     ]
    }
   ],
   "execution_count": 9
  },
  {
   "metadata": {
    "ExecuteTime": {
     "end_time": "2025-09-01T01:36:25.190636Z",
     "start_time": "2025-09-01T01:36:25.186927Z"
    }
   },
   "cell_type": "code",
   "source": [
    "alfaL=[]\n",
    "\n",
    "for i in alfabeto:\n",
    "    alfaL.append(i)\n",
    "\n",
    "print(alfaL)"
   ],
   "id": "964ea833b748aebb",
   "outputs": [
    {
     "name": "stdout",
     "output_type": "stream",
     "text": [
      "['a', 'b', 'c', 'd', 'e', 'f', 'g', 'h', 'i', 'j', 'k', 'l', 'm', 'n', 'o', 'p', 'q', 'r', 't', 's', 'u', 'v', 'w', 'x', 'y', 'z']\n"
     ]
    }
   ],
   "execution_count": 10
  },
  {
   "metadata": {},
   "cell_type": "markdown",
   "source": [
    "**Resultado:** Cada carácter del string alfabeto se convierte en un elemento individual de la lista `alfaL`.\n",
    "\n",
    "---"
   ],
   "id": "693f071c1b869697"
  },
  {
   "metadata": {},
   "cell_type": "markdown",
   "source": [
    "## 15. Operaciones con Listas: Concatenación y Anidación\n",
    "\n",
    "Podemos combinar listas de diferentes formas: concatenándolas o creando listas de listas.\n",
    "\n",
    "### Código:"
   ],
   "id": "8fa151b9c9aac4dc"
  },
  {
   "metadata": {
    "ExecuteTime": {
     "end_time": "2025-09-01T01:38:11.218789Z",
     "start_time": "2025-09-01T01:38:11.214682Z"
    }
   },
   "cell_type": "code",
   "source": [
    "N=len(alfaL)\n",
    "numL=[]\n",
    "for i in range(N):\n",
    "    numL.append(i)\n",
    "\n",
    "print('alfaL= ',alfaL)\n",
    "print('\\n')\n",
    "print('numL= ',numL)\n",
    "print('\\n')\n",
    "\n",
    "alfanumL=alfaL+numL\n",
    "alfanumLL=[alfaL,numL]\n",
    "\n",
    "print('alfanumL= ',alfanumL)\n",
    "print('\\n')\n",
    "print('alfanumLL= ',alfanumLL)"
   ],
   "id": "9219cce850d9ba57",
   "outputs": [
    {
     "name": "stdout",
     "output_type": "stream",
     "text": [
      "alfaL=  ['a', 'b', 'c', 'd', 'e', 'f', 'g', 'h', 'i', 'j', 'k', 'l', 'm', 'n', 'o', 'p', 'q', 'r', 't', 's', 'u', 'v', 'w', 'x', 'y', 'z']\n",
      "\n",
      "\n",
      "numL=  [0, 1, 2, 3, 4, 5, 6, 7, 8, 9, 10, 11, 12, 13, 14, 15, 16, 17, 18, 19, 20, 21, 22, 23, 24, 25]\n",
      "\n",
      "\n",
      "alfanumL=  ['a', 'b', 'c', 'd', 'e', 'f', 'g', 'h', 'i', 'j', 'k', 'l', 'm', 'n', 'o', 'p', 'q', 'r', 't', 's', 'u', 'v', 'w', 'x', 'y', 'z', 0, 1, 2, 3, 4, 5, 6, 7, 8, 9, 10, 11, 12, 13, 14, 15, 16, 17, 18, 19, 20, 21, 22, 23, 24, 25]\n",
      "\n",
      "\n",
      "alfanumLL=  [['a', 'b', 'c', 'd', 'e', 'f', 'g', 'h', 'i', 'j', 'k', 'l', 'm', 'n', 'o', 'p', 'q', 'r', 't', 's', 'u', 'v', 'w', 'x', 'y', 'z'], [0, 1, 2, 3, 4, 5, 6, 7, 8, 9, 10, 11, 12, 13, 14, 15, 16, 17, 18, 19, 20, 21, 22, 23, 24, 25]]\n"
     ]
    }
   ],
   "execution_count": 12
  },
  {
   "metadata": {},
   "cell_type": "markdown",
   "source": [
    "**Resultados:**\n",
    "- `alfanumL`: Concatenación que une ambas listas en una sola\n",
    "- `alfanumLL`: Lista de listas que mantiene las estructuras separadas\n",
    "- La concatenación crea una lista plana, mientras que la lista de listas mantiene la estructura anidada\n",
    "\n",
    "---"
   ],
   "id": "4c32e775cbdb8304"
  },
  {
   "metadata": {},
   "cell_type": "markdown",
   "source": [
    "## 16. Correspondencia Entre Listas\n",
    "\n",
    "Usando listas anidadas podemos crear correspondencias entre elementos de diferentes listas.\n",
    "\n",
    "### Código:"
   ],
   "id": "a5710646d46e839e"
  },
  {
   "metadata": {
    "ExecuteTime": {
     "end_time": "2025-09-01T01:39:47.848655Z",
     "start_time": "2025-09-01T01:39:47.844966Z"
    }
   },
   "cell_type": "code",
   "source": [
    "for i in range(N):\n",
    "    print(alfanumLL[0][i],alfanumLL[1][i])"
   ],
   "id": "5aa3b1ac7509cc30",
   "outputs": [
    {
     "name": "stdout",
     "output_type": "stream",
     "text": [
      "a 0\n",
      "b 1\n",
      "c 2\n",
      "d 3\n",
      "e 4\n",
      "f 5\n",
      "g 6\n",
      "h 7\n",
      "i 8\n",
      "j 9\n",
      "k 10\n",
      "l 11\n",
      "m 12\n",
      "n 13\n",
      "o 14\n",
      "p 15\n",
      "q 16\n",
      "r 17\n",
      "t 18\n",
      "s 19\n",
      "u 20\n",
      "v 21\n",
      "w 22\n",
      "x 23\n",
      "y 24\n",
      "z 25\n"
     ]
    }
   ],
   "execution_count": 13
  },
  {
   "metadata": {},
   "cell_type": "markdown",
   "source": [
    "**Resultado:** Se muestra la correspondencia entre letras y números:\n",
    "- a corresponde a 0\n",
    "- b corresponde a 1\n",
    "- etc.\n",
    "\n",
    "Esto es útil para crear mapeos o diccionarios conceptuales.\n",
    "\n",
    "---"
   ],
   "id": "84f4070559472813"
  },
  {
   "metadata": {},
   "cell_type": "markdown",
   "source": [
    "## 17. Método remove() en Listas\n",
    "\n",
    "El método `remove()` elimina la **primera ocurrencia** del valor especificado en la lista.\n",
    "\n",
    "### Código:"
   ],
   "id": "97b565b1d075e17d"
  },
  {
   "metadata": {
    "ExecuteTime": {
     "end_time": "2025-09-01T01:40:54.902576Z",
     "start_time": "2025-09-01T01:40:54.899117Z"
    }
   },
   "cell_type": "code",
   "source": [
    "alfaL.remove('c')\n",
    "print(alfaL)"
   ],
   "id": "295b115d63c5cb4a",
   "outputs": [
    {
     "name": "stdout",
     "output_type": "stream",
     "text": [
      "['a', 'b', 'd', 'e', 'f', 'g', 'h', 'i', 'j', 'k', 'l', 'm', 'n', 'o', 'p', 'q', 'r', 't', 's', 'u', 'v', 'w', 'x', 'y', 'z']\n"
     ]
    }
   ],
   "execution_count": 14
  },
  {
   "metadata": {},
   "cell_type": "markdown",
   "source": [
    "**Resultado:** La letra 'c' se elimina de la lista alfabética, demostrando la mutabilidad de las listas.\n",
    "\n",
    "---"
   ],
   "id": "273ad7a404b82783"
  },
  {
   "metadata": {},
   "cell_type": "markdown",
   "source": [
    "## 18. Métodos de Listas en Python\n",
    "\n",
    "Las listas tienen múltiples métodos incorporados para su manipulación:"
   ],
   "id": "b9fb1e4a5db90ea2"
  },
  {
   "metadata": {},
   "cell_type": "markdown",
   "source": [
    "## Métodos de Listas en Python\n",
    "\n",
    "| Método | Descripción |\n",
    "|:-------|:------------|\n",
    "| `append()` | Agrega un elemento al final de la lista |\n",
    "| `clear()` | Remueve todo los elementos de la lista |\n",
    "| `copy()` | Regresa una copia de la lista |\n",
    "| `count()` | Regresa el número de elementos con el valor especificado |\n",
    "| `extend()` | Agrega elementos de una lista (o cualquier iterable) al final de esta lista |\n",
    "| `index()` | Regresa el índice del primer elemento con el valor especificado |\n",
    "| `insert()` | Adiciona un elemento en la posición especificada |\n",
    "| `pop()` | Remueve un elemento en la posición especificada y puede retornarlo si se hace una asignación |\n",
    "| `remove()` | Remueve el ítem con este valor específico |\n",
    "| `reverse()` | Invierte el orden de la lista |\n",
    "| `sort()` | Ordena la lista |"
   ],
   "id": "8242e7ffd2de5eeb"
  },
  {
   "metadata": {},
   "cell_type": "markdown",
   "source": [
    "## 19. Demostración Práctica de Métodos de Listas\n",
    "\n",
    "Vamos a demostrar cada método de la tabla anterior con ejemplos prácticos:\n",
    "\n",
    "### Código:"
   ],
   "id": "b1ee7dee2b0a6000"
  },
  {
   "metadata": {
    "ExecuteTime": {
     "end_time": "2025-09-01T02:17:39.920177Z",
     "start_time": "2025-09-01T02:17:39.916348Z"
    }
   },
   "cell_type": "code",
   "outputs": [
    {
     "name": "stdout",
     "output_type": "stream",
     "text": [
      "Lista inicial: [1, 2, 3, 4, 5]\n"
     ]
    }
   ],
   "execution_count": 63,
   "source": [
    "mi_lista = [1, 2, 3, 4, 5]\n",
    "print(\"Lista inicial:\", mi_lista)"
   ],
   "id": "fea30932f8637c4f"
  },
  {
   "metadata": {
    "ExecuteTime": {
     "end_time": "2025-09-01T02:17:35.738820Z",
     "start_time": "2025-09-01T02:17:35.734455Z"
    }
   },
   "cell_type": "code",
   "outputs": [
    {
     "name": "stdout",
     "output_type": "stream",
     "text": [
      "Después de append(6): [1, 2, 3, 3, 5, 6, 7, 8, 9, 6]\n"
     ]
    }
   ],
   "execution_count": 62,
   "source": [
    "mi_lista.append(6)\n",
    "print(\"Después de append(6):\", mi_lista)"
   ],
   "id": "e005047c00a7c9b4"
  },
  {
   "metadata": {
    "ExecuteTime": {
     "end_time": "2025-09-01T02:17:29.845849Z",
     "start_time": "2025-09-01T02:17:29.841906Z"
    }
   },
   "cell_type": "code",
   "source": [
    "copia_lista = mi_lista.copy()\n",
    "copia_lista.clear()\n",
    "print(\"Después de clear():\", copia_lista)"
   ],
   "id": "5b3e1d238d3edbed",
   "outputs": [
    {
     "name": "stdout",
     "output_type": "stream",
     "text": [
      "Después de clear(): []\n"
     ]
    }
   ],
   "execution_count": 61
  },
  {
   "metadata": {
    "ExecuteTime": {
     "end_time": "2025-09-01T01:46:26.717444Z",
     "start_time": "2025-09-01T01:46:26.713586Z"
    }
   },
   "cell_type": "code",
   "source": [
    "lista_copiada = mi_lista.copy()\n",
    "print(\"Copia de la lista:\", lista_copiada)"
   ],
   "id": "fd5cc4abade07050",
   "outputs": [
    {
     "name": "stdout",
     "output_type": "stream",
     "text": [
      "Copia de la lista: [1, 2, 3, 4, 5, 6]\n"
     ]
    }
   ],
   "execution_count": 19
  },
  {
   "metadata": {
    "ExecuteTime": {
     "end_time": "2025-09-01T01:46:33.578055Z",
     "start_time": "2025-09-01T01:46:33.574048Z"
    }
   },
   "cell_type": "code",
   "source": [
    "mi_lista.append(3)\n",
    "conteo = mi_lista.count(3)\n",
    "print(\"Número de veces que aparece el 3:\", conteo)"
   ],
   "id": "371789030de1bd5e",
   "outputs": [
    {
     "name": "stdout",
     "output_type": "stream",
     "text": [
      "Número de veces que aparece el 3: 2\n"
     ]
    }
   ],
   "execution_count": 20
  },
  {
   "metadata": {
    "ExecuteTime": {
     "end_time": "2025-09-01T01:46:40.054299Z",
     "start_time": "2025-09-01T01:46:40.051429Z"
    }
   },
   "cell_type": "code",
   "source": [
    "lista_extra = [7, 8, 9]\n",
    "mi_lista.extend(lista_extra)\n",
    "print(\"Después de extend([7, 8, 9]):\", mi_lista)"
   ],
   "id": "26ebeb8659062276",
   "outputs": [
    {
     "name": "stdout",
     "output_type": "stream",
     "text": [
      "Después de extend([7, 8, 9]): [1, 2, 3, 4, 5, 6, 3, 7, 8, 9]\n"
     ]
    }
   ],
   "execution_count": 21
  },
  {
   "metadata": {
    "ExecuteTime": {
     "end_time": "2025-09-01T01:46:44.730540Z",
     "start_time": "2025-09-01T01:46:44.726560Z"
    }
   },
   "cell_type": "code",
   "source": [
    "indice = mi_lista.index(3)\n",
    "print(\"Índice del primer elemento con valor 3:\", indice)"
   ],
   "id": "96557f834c888a90",
   "outputs": [
    {
     "name": "stdout",
     "output_type": "stream",
     "text": [
      "Índice del primer elemento con valor 3: 2\n"
     ]
    }
   ],
   "execution_count": 22
  },
  {
   "metadata": {
    "ExecuteTime": {
     "end_time": "2025-09-01T01:46:49.220957Z",
     "start_time": "2025-09-01T01:46:49.216430Z"
    }
   },
   "cell_type": "code",
   "source": [
    "mi_lista.insert(2, 99)\n",
    "print(\"Después de insert(2, 99):\", mi_lista)"
   ],
   "id": "39ce04c2ec5a1014",
   "outputs": [
    {
     "name": "stdout",
     "output_type": "stream",
     "text": [
      "Después de insert(2, 99): [1, 2, 99, 3, 4, 5, 6, 3, 7, 8, 9]\n"
     ]
    }
   ],
   "execution_count": 23
  },
  {
   "metadata": {
    "ExecuteTime": {
     "end_time": "2025-09-01T01:46:53.838963Z",
     "start_time": "2025-09-01T01:46:53.835515Z"
    }
   },
   "cell_type": "code",
   "source": [
    "elemento_eliminado = mi_lista.pop(4)\n",
    "print(\"Elemento eliminado con pop(4):\", elemento_eliminado)\n",
    "print(\"Lista después de pop(4):\", mi_lista)"
   ],
   "id": "fb08584c35790dc7",
   "outputs": [
    {
     "name": "stdout",
     "output_type": "stream",
     "text": [
      "Elemento eliminado con pop(4): 4\n",
      "Lista después de pop(4): [1, 2, 99, 3, 5, 6, 3, 7, 8, 9]\n"
     ]
    }
   ],
   "execution_count": 24
  },
  {
   "metadata": {
    "ExecuteTime": {
     "end_time": "2025-09-01T01:46:58.657248Z",
     "start_time": "2025-09-01T01:46:58.653744Z"
    }
   },
   "cell_type": "code",
   "source": [
    "mi_lista.remove(99)  # Elimina el primer elemento con valor 99\n",
    "print(\"Después de remove(99):\", mi_lista)"
   ],
   "id": "dd3f6ff96d9242fc",
   "outputs": [
    {
     "name": "stdout",
     "output_type": "stream",
     "text": [
      "Después de remove(99): [1, 2, 3, 5, 6, 3, 7, 8, 9]\n"
     ]
    }
   ],
   "execution_count": 25
  },
  {
   "metadata": {
    "ExecuteTime": {
     "end_time": "2025-09-01T01:47:03.232724Z",
     "start_time": "2025-09-01T01:47:03.228718Z"
    }
   },
   "cell_type": "code",
   "source": [
    "mi_lista.reverse()\n",
    "print(\"Lista después de reverse():\", mi_lista)"
   ],
   "id": "d31ee925ed71b9a7",
   "outputs": [
    {
     "name": "stdout",
     "output_type": "stream",
     "text": [
      "Lista después de reverse(): [9, 8, 7, 3, 6, 5, 3, 2, 1]\n"
     ]
    }
   ],
   "execution_count": 26
  },
  {
   "metadata": {
    "ExecuteTime": {
     "end_time": "2025-09-01T01:47:10.917307Z",
     "start_time": "2025-09-01T01:47:10.914227Z"
    }
   },
   "cell_type": "code",
   "source": [
    "mi_lista.sort()\n",
    "print(\"Lista después de sort():\", mi_lista)"
   ],
   "id": "60681040b620d8d3",
   "outputs": [
    {
     "name": "stdout",
     "output_type": "stream",
     "text": [
      "Lista después de sort(): [1, 2, 3, 3, 5, 6, 7, 8, 9]\n"
     ]
    }
   ],
   "execution_count": 27
  },
  {
   "metadata": {
    "ExecuteTime": {
     "end_time": "2025-09-01T01:47:15.387389Z",
     "start_time": "2025-09-01T01:47:15.384177Z"
    }
   },
   "cell_type": "code",
   "source": [
    "print(\"\\nResultado final de la lista después de todas las operaciones:\")\n",
    "print(mi_lista)"
   ],
   "id": "f2c6445a1eb5ae97",
   "outputs": [
    {
     "name": "stdout",
     "output_type": "stream",
     "text": [
      "\n",
      "Resultado final de la lista después de todas las operaciones:\n",
      "[1, 2, 3, 3, 5, 6, 7, 8, 9]\n"
     ]
    }
   ],
   "execution_count": 28
  },
  {
   "metadata": {},
   "cell_type": "markdown",
   "source": [
    "**Resultados de los métodos:**\n",
    "- `append()`: Agrega elementos al final\n",
    "- `clear()`: Vacía completamente la lista\n",
    "- `copy()`: Crea una copia independiente\n",
    "- `count()`: Cuenta ocurrencias de un valor\n",
    "- `extend()`: Agrega múltiples elementos de otra lista\n",
    "- `index()`: Encuentra la posición de un elemento\n",
    "- `insert()`: Inserta en posición específica\n",
    "- `pop()`: Remueve y retorna elemento por posición\n",
    "- `remove()`: Elimina por valor\n",
    "- `reverse()`: Invierte el orden\n",
    "- `sort()`: Ordena ascendentemente\n",
    "\n",
    "---"
   ],
   "id": "9f21cfcd61378d3c"
  },
  {
   "metadata": {},
   "cell_type": "markdown",
   "source": [
    "## Ejercicio: Creación de Lista de Tuplas\n",
    "\n",
    "**Objetivo:** Crear una lista vacía y llenarla con tuplas que contengan correspondencias letra-número.\n",
    "\n",
    "### Código:"
   ],
   "id": "bb5527915f5f0a0b"
  },
  {
   "metadata": {
    "ExecuteTime": {
     "end_time": "2025-09-01T02:01:56.178362Z",
     "start_time": "2025-09-01T02:01:56.175356Z"
    }
   },
   "cell_type": "code",
   "source": "listaVacia=[]",
   "id": "4ab460f81e28a918",
   "outputs": [],
   "execution_count": 36
  },
  {
   "metadata": {
    "ExecuteTime": {
     "end_time": "2025-09-01T02:06:07.005121Z",
     "start_time": "2025-09-01T02:06:07.001632Z"
    }
   },
   "cell_type": "code",
   "source": [
    "for i in range(len(alfanumLL[0])):\n",
    "    listaVacia.append((alfanumLL[0][i], alfanumLL[1][i]))\n",
    "print(listaVacia)"
   ],
   "id": "a5edfd430bf9811",
   "outputs": [
    {
     "name": "stdout",
     "output_type": "stream",
     "text": [
      "[('a', 0), ('b', 1), ('d', 2), ('e', 3), ('f', 4), ('g', 5), ('h', 6), ('i', 7), ('j', 8), ('k', 9), ('l', 10), ('m', 11), ('n', 12), ('o', 13), ('p', 14), ('q', 15), ('r', 16), ('t', 17), ('s', 18), ('u', 19), ('v', 20), ('w', 21), ('x', 22), ('y', 23), ('z', 24), ('a', 0), ('b', 1), ('d', 2), ('e', 3), ('f', 4), ('g', 5), ('h', 6), ('i', 7), ('j', 8), ('k', 9), ('l', 10), ('m', 11), ('n', 12), ('o', 13), ('p', 14), ('q', 15), ('r', 16), ('t', 17), ('s', 18), ('u', 19), ('v', 20), ('w', 21), ('x', 22), ('y', 23), ('z', 24), ('a', 0), ('b', 1), ('d', 2), ('e', 3), ('f', 4), ('g', 5), ('h', 6), ('i', 7), ('j', 8), ('k', 9), ('l', 10), ('m', 11), ('n', 12), ('o', 13), ('p', 14), ('q', 15), ('r', 16), ('t', 17), ('s', 18), ('u', 19), ('v', 20), ('w', 21), ('x', 22), ('y', 23), ('z', 24), ('a', 0), ('b', 1), ('d', 2), ('e', 3), ('f', 4), ('g', 5), ('h', 6), ('i', 7), ('j', 8), ('k', 9), ('l', 10), ('m', 11), ('n', 12), ('o', 13), ('p', 14), ('q', 15), ('r', 16), ('t', 17), ('s', 18), ('u', 19), ('v', 20), ('w', 21), ('x', 22), ('y', 23), ('z', 24), ('a', 0), ('b', 1), ('d', 2), ('e', 3), ('f', 4), ('g', 5), ('h', 6), ('i', 7), ('j', 8), ('k', 9), ('l', 10), ('m', 11), ('n', 12), ('o', 13), ('p', 14), ('q', 15), ('r', 16), ('t', 17), ('s', 18), ('u', 19), ('v', 20), ('w', 21), ('x', 22), ('y', 23), ('z', 24)]\n"
     ]
    }
   ],
   "execution_count": 49
  },
  {
   "metadata": {},
   "cell_type": "markdown",
   "source": [
    "**Resultado:** Se crea una lista donde cada elemento es una tupla que contiene una letra y su número correspondiente. Esto combina conceptos de listas, tuplas y bucles.\n",
    "\n",
    "---"
   ],
   "id": "a618c393b1eebe84"
  },
  {
   "metadata": {},
   "cell_type": "markdown",
   "source": [
    "## 20. Comprensión de Listas (List Comprehension)\n",
    "\n",
    "La comprensión de listas es una forma concisa y eficiente de crear nuevas listas basadas en listas existentes.\n",
    "\n",
    "### Método tradicional:"
   ],
   "id": "230528c38da7e486"
  },
  {
   "metadata": {
    "ExecuteTime": {
     "end_time": "2025-09-01T02:09:16.063572Z",
     "start_time": "2025-09-01T02:09:16.060115Z"
    }
   },
   "cell_type": "code",
   "source": [
    "frutas=['manzana','kiwi','guanabana','limon','nispero','Pomelo','Mango']\n",
    "lista2=[]\n",
    "for x in frutas:\n",
    "    if \"a\" in x:\n",
    "        lista2.append(x)\n",
    "print(lista2)"
   ],
   "id": "e5a0cc56d07b96ae",
   "outputs": [
    {
     "name": "stdout",
     "output_type": "stream",
     "text": [
      "['manzana', 'guanabana', 'Mango']\n"
     ]
    }
   ],
   "execution_count": 50
  },
  {
   "metadata": {},
   "cell_type": "code",
   "outputs": [],
   "execution_count": null,
   "source": [
    "**Ventajas de la comprensión de listas:**\n",
    "- Más concisa (1 línea vs 4 líneas)\n",
    "- Más eficiente en términos de rendimiento\n",
    "- Más legible una vez que te acostumbras a la sintaxis\n",
    "\n",
    "**Sintaxis:** `[expresión for elemento in iterable if condición]`\n",
    "\n",
    "---"
   ],
   "id": "98975cca739a17b2"
  },
  {
   "metadata": {},
   "cell_type": "markdown",
   "source": "### Método con comprensión de listas:",
   "id": "3c8c99f821dac329"
  },
  {
   "metadata": {
    "ExecuteTime": {
     "end_time": "2025-09-01T02:11:21.935746Z",
     "start_time": "2025-09-01T02:11:21.932290Z"
    }
   },
   "cell_type": "code",
   "source": [
    "lisat2=[x for x in frutas if \"a\" in x]\n",
    "print(lisat2)"
   ],
   "id": "2bbb20822f42e5fc",
   "outputs": [
    {
     "name": "stdout",
     "output_type": "stream",
     "text": [
      "['manzana', 'guanabana', 'Mango']\n"
     ]
    }
   ],
   "execution_count": 51
  },
  {
   "metadata": {},
   "cell_type": "markdown",
   "source": [
    "**Ventajas de la comprensión de listas:**\n",
    "- Más concisa (1 línea vs 4 líneas)\n",
    "- Más eficiente en términos de rendimiento\n",
    "- Más legible una vez que te acostumbras a la sintaxis\n",
    "\n",
    "**Sintaxis:** `[expresión for elemento in iterable if condición]`\n",
    "\n",
    "---"
   ],
   "id": "1b6903109824c2bd"
  },
  {
   "metadata": {},
   "cell_type": "markdown",
   "source": [
    "## 21. Ejemplos Avanzados de Comprensión de Listas\n",
    "\n",
    "Veamos más ejemplos de comprensión con diferentes condiciones:\n",
    "\n",
    "### Código:"
   ],
   "id": "b738d21c4863719d"
  },
  {
   "metadata": {
    "ExecuteTime": {
     "end_time": "2025-09-01T02:11:56.383897Z",
     "start_time": "2025-09-01T02:11:56.380896Z"
    }
   },
   "cell_type": "code",
   "source": [
    "lista2=[x for x in frutas if \"a\" not in x]\n",
    "print(lista2)"
   ],
   "id": "6b86a083499ca619",
   "outputs": [
    {
     "name": "stdout",
     "output_type": "stream",
     "text": [
      "['kiwi', 'limon', 'nispero', 'Pomelo']\n"
     ]
    }
   ],
   "execution_count": 52
  },
  {
   "metadata": {
    "ExecuteTime": {
     "end_time": "2025-09-01T02:12:17.413604Z",
     "start_time": "2025-09-01T02:12:17.409604Z"
    }
   },
   "cell_type": "code",
   "source": [
    "lista2=[x for x in frutas if len(x)<6]\n",
    "print(lista2)"
   ],
   "id": "6ab81c9e23e5be3a",
   "outputs": [
    {
     "name": "stdout",
     "output_type": "stream",
     "text": [
      "['kiwi', 'limon', 'Mango']\n"
     ]
    }
   ],
   "execution_count": 55
  },
  {
   "metadata": {
    "ExecuteTime": {
     "end_time": "2025-09-01T02:13:33.243512Z",
     "start_time": "2025-09-01T02:13:33.239641Z"
    }
   },
   "cell_type": "code",
   "source": [
    "lista2=[x for x in range(10) if x%2==0]\n",
    "print(lista2)"
   ],
   "id": "9824f7e7ea9c4feb",
   "outputs": [
    {
     "name": "stdout",
     "output_type": "stream",
     "text": [
      "[0, 2, 4, 6, 8]\n"
     ]
    }
   ],
   "execution_count": 56
  },
  {
   "metadata": {
    "ExecuteTime": {
     "end_time": "2025-09-01T02:14:50.976033Z",
     "start_time": "2025-09-01T02:14:50.972529Z"
    }
   },
   "cell_type": "code",
   "source": [
    "lista2=[x for x in t1 if type(x)==int or type(x)==float]\n",
    "print(lista2)"
   ],
   "id": "9839f48f39d413c9",
   "outputs": [
    {
     "name": "stdout",
     "output_type": "stream",
     "text": [
      "[1, 24.5]\n"
     ]
    }
   ],
   "execution_count": 59
  },
  {
   "metadata": {},
   "cell_type": "markdown",
   "source": [
    "**Resultados explicados:**\n",
    "- Filtramos frutas que NO contienen 'a'\n",
    "- Filtramos frutas con menos de 6 caracteres\n",
    "- Creamos lista de números pares\n",
    "- Filtramos elementos numéricos de una tupla mixta\n",
    "\n",
    "---"
   ],
   "id": "15853d9333592dc7"
  },
  {
   "metadata": {},
   "cell_type": "markdown",
   "source": [
    "## Ejercicio Final: Comprensión de Listas\n",
    "\n",
    "**Objetivo:** Usar comprensión de listas para filtrar frutas con más de 5 letras.\n",
    "\n",
    "### Código:"
   ],
   "id": "668f817cd0f9524f"
  },
  {
   "metadata": {
    "ExecuteTime": {
     "end_time": "2025-09-01T02:15:29.749500Z",
     "start_time": "2025-09-01T02:15:29.745195Z"
    }
   },
   "cell_type": "code",
   "source": [
    "lista2=[x for x in frutas if len(x)>5]\n",
    "print(lista2)"
   ],
   "id": "61fc104a303e2986",
   "outputs": [
    {
     "name": "stdout",
     "output_type": "stream",
     "text": [
      "['manzana', 'guanabana', 'nispero', 'Pomelo']\n"
     ]
    }
   ],
   "execution_count": 60
  },
  {
   "metadata": {},
   "cell_type": "markdown",
   "source": [
    "**Resultado:** Se obtienen las frutas que tienen más de 5 caracteres: manzana, guanabana, nispero, Pomelo.\n",
    "\n",
    "---\n",
    "\n",
    "## Conclusiones\n",
    "\n",
    "En esta práctica hemos aprendido:\n",
    "\n",
    "1. **Tuplas**: Estructuras inmutables, útiles para datos que no deben cambiar\n",
    "2. **Listas**: Estructuras mutables y flexibles con múltiples métodos de manipulación\n",
    "3. **Conversiones**: Entre diferentes tipos de datos iterables\n",
    "4. **Métodos de listas**: Para agregar, eliminar, ordenar y manipular elementos\n",
    "5. **Comprensión de listas**: Sintaxis concisa para crear listas filtradas o transformadas\n",
    "\n",
    "Las tuplas y listas son fundamentales en Python y su correcta utilización permite escribir código más eficiente y legible."
   ],
   "id": "3e86ba9beaa7767c"
  }
 ],
 "metadata": {
  "kernelspec": {
   "display_name": "Python 3",
   "language": "python",
   "name": "python3"
  },
  "language_info": {
   "codemirror_mode": {
    "name": "ipython",
    "version": 2
   },
   "file_extension": ".py",
   "mimetype": "text/x-python",
   "name": "python",
   "nbconvert_exporter": "python",
   "pygments_lexer": "ipython2",
   "version": "2.7.6"
  }
 },
 "nbformat": 4,
 "nbformat_minor": 5
}
